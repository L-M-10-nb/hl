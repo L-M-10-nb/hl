{
 "cells": [
  {
   "cell_type": "code",
   "execution_count": 1,
   "id": "a17927df-cdaa-4838-88a8-53e876c58fc6",
   "metadata": {},
   "outputs": [
    {
     "name": "stdout",
     "output_type": "stream",
     "text": [
      "x 的数据类型是: <class 'int'>\n",
      "y 的数据类型是: <class 'str'>\n",
      "z 的数据类型是: <class 'bool'>\n"
     ]
    }
   ],
   "source": [
    "x = 10\n",
    "y = \"10\"\n",
    "z = True\n",
    "print(f\"x 的数据类型是: {type(x)}\")\n",
    "print(f\"y 的数据类型是: {type(y)}\")\n",
    "print(f\"z 的数据类型是: {type(z)}\")"
   ]
  },
  {
   "cell_type": "code",
   "execution_count": 7,
   "id": "e996928e-20ca-476e-aa6b-7e90c1cf4c81",
   "metadata": {},
   "outputs": [
    {
     "name": "stdin",
     "output_type": "stream",
     "text": [
      "请输入圆的半径:  6\n"
     ]
    },
    {
     "name": "stdout",
     "output_type": "stream",
     "text": [
      "半径为 6.0 的圆面积是: 113.04\n"
     ]
    }
   ],
   "source": [
    "π = 3.14\n",
    "radius = float(input(\"请输入圆的半径: \"))\n",
    "area = π * radius ** 2\n",
    "print(f\"半径为 {radius} 的圆面积是: {area:.2f}\")  # 保留两位小数输出"
   ]
  },
  {
   "cell_type": "code",
   "execution_count": 11,
   "id": "60f23279-6afd-47c8-94ac-4dc83d5f4e67",
   "metadata": {},
   "outputs": [
    {
     "name": "stdout",
     "output_type": "stream",
     "text": [
      "转换过程观察:\n",
      "原始字符串: 3.14 (类型: <class 'str'>)\n",
      "转为浮点数: 3.14 (类型: <class 'float'>)\n",
      "转为整数: 3 (类型: <class 'int'>)\n"
     ]
    }
   ],
   "source": [
    "str_num = \"3.14\"\n",
    "float_num = float(str_num)\n",
    "int_num = int(float_num)\n",
    "\n",
    "print(\"转换过程观察:\")\n",
    "print(f\"原始字符串: {str_num} (类型: {type(str_num)})\")\n",
    "print(f\"转为浮点数: {float_num} (类型: {type(float_num)})\")\n",
    "print(f\"转为整数: {int_num} (类型: {type(int_num)})\")"
   ]
  },
  {
   "cell_type": "code",
   "execution_count": null,
   "id": "b2fbd592-3674-44d9-a4a9-ac9d82be1e64",
   "metadata": {},
   "outputs": [],
   "source": []
  }
 ],
 "metadata": {
  "kernelspec": {
   "display_name": "Python 3 (ipykernel)",
   "language": "python",
   "name": "python3"
  },
  "language_info": {
   "codemirror_mode": {
    "name": "ipython",
    "version": 3
   },
   "file_extension": ".py",
   "mimetype": "text/x-python",
   "name": "python",
   "nbconvert_exporter": "python",
   "pygments_lexer": "ipython3",
   "version": "3.12.3"
  }
 },
 "nbformat": 4,
 "nbformat_minor": 5
}
