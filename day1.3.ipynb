{
 "cells": [
  {
   "cell_type": "code",
   "execution_count": 21,
   "id": "d3f24b3d-4492-49bf-be34-26863c530d86",
   "metadata": {},
   "outputs": [
    {
     "name": "stdout",
     "output_type": "stream",
     "text": [
      "(1) 提取的单词: language\n",
      "\n",
      "(2) 重复输出3次:\n",
      "Python is a powerful programming language Let's learn togetherPython is a powerful programming language Let's learn togetherPython is a powerful programming language Let's learn together\n",
      "\n",
      "(3) 以p或P开头的单词:\n",
      "['Python', 'powerful', 'programming']\n"
     ]
    }
   ],
   "source": [
    "s1 = \"Python is a powerful programming language\"\n",
    "s2 = \" Let's learn together\"\n",
    "\n",
    "# (1) 提取单词 \"language\"\n",
    "words = s1.split()\n",
    "print(f\"(1) 提取的单词: {words[-1]}\")\n",
    "\n",
    "# (2) 连接并重复输出3次\n",
    "combined = s1 + s2\n",
    "print(\"\\n(2) 重复输出3次:\")\n",
    "print(combined * 3)\n",
    "\n",
    "# (3) 输出以 p 或 P 开头的单词\n",
    "p_words = [word for word in words if word.startswith(('p', 'P'))]\n",
    "print(\"\\n(3) 以p或P开头的单词:\")\n",
    "print(p_words)"
   ]
  },
  {
   "cell_type": "code",
   "execution_count": 23,
   "id": "53e90af6-62ae-40aa-89ac-c6853fc8b30d",
   "metadata": {},
   "outputs": [
    {
     "name": "stdout",
     "output_type": "stream",
     "text": [
      "(1) 去除前后空格: |Hello, World! This is a test string.|\n",
      "\n",
      "(2) 转换为大写:  HELLO, WORLD! THIS IS A TEST STRING. \n",
      "\n",
      "(3) 'test'起始下标: 25\n",
      "\n",
      "(4) 替换后字符串:  Hello, World! This is a practice string. \n",
      "\n",
      "(5) 分割并连接: Hello,-World!-This-is-a-test-string.\n"
     ]
    }
   ],
   "source": [
    "s3 = \" Hello, World! This is a test string. \"\n",
    "\n",
    "# (1) 去除字符串前后的空格\n",
    "stripped = s3.strip()\n",
    "print(f\"(1) 去除前后空格: |{stripped}|\")\n",
    "\n",
    "# (2) 将所有字符转换为大写\n",
    "upper_case = s3.upper()\n",
    "print(f\"\\n(2) 转换为大写: {upper_case}\")\n",
    "\n",
    "# (3) 查找子串 \"test\" 的起始下标\n",
    "test_index = s3.find(\"test\")\n",
    "print(f\"\\n(3) 'test'起始下标: {test_index}\")\n",
    "\n",
    "# (4) 将 \"test\" 替换为 \"practice\"\n",
    "replaced = s3.replace(\"test\", \"practice\")\n",
    "print(f\"\\n(4) 替换后字符串: {replaced}\")\n",
    "\n",
    "# (5) 分割并用\"-\"连接\n",
    "split_and_join = \"-\".join(s3.split())\n",
    "print(f\"\\n(5) 分割并连接: {split_and_join}\")"
   ]
  },
  {
   "cell_type": "code",
   "execution_count": null,
   "id": "c7596ba8-ab24-434a-8330-00856043aa07",
   "metadata": {},
   "outputs": [],
   "source": []
  }
 ],
 "metadata": {
  "kernelspec": {
   "display_name": "Python 3 (ipykernel)",
   "language": "python",
   "name": "python3"
  },
  "language_info": {
   "codemirror_mode": {
    "name": "ipython",
    "version": 3
   },
   "file_extension": ".py",
   "mimetype": "text/x-python",
   "name": "python",
   "nbconvert_exporter": "python",
   "pygments_lexer": "ipython3",
   "version": "3.12.3"
  }
 },
 "nbformat": 4,
 "nbformat_minor": 5
}
