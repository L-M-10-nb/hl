{
 "cells": [
  {
   "cell_type": "code",
   "execution_count": 13,
   "id": "44dc9fbc-eddc-4c5c-9a05-76a895950d0c",
   "metadata": {},
   "outputs": [
    {
     "name": "stdout",
     "output_type": "stream",
     "text": [
      "1-100的偶数：\n",
      "[2, 4, 6, 8, 10, 12, 14, 16, 18, 20, 22, 24, 26, 28, 30, 32, 34, 36, 38, 40, 42, 44, 46, 48, 50, 52, 54, 56, 58, 60, 62, 64, 66, 68, 70, 72, 74, 76, 78, 80, 82, 84, 86, 88, 90, 92, 94, 96, 98, 100]\n"
     ]
    }
   ],
   "source": [
    "even_numbers = [num for num in range(1, 101) if num % 2 == 0]\n",
    "print(\"1-100的偶数：\")\n",
    "print(even_numbers)"
   ]
  },
  {
   "cell_type": "code",
   "execution_count": 15,
   "id": "b1c15f86-2575-4dde-a6fb-eb7350a09a1c",
   "metadata": {},
   "outputs": [
    {
     "name": "stdout",
     "output_type": "stream",
     "text": [
      "原始列表: [1, 2, 3, 2, 4, 3]\n",
      "去重后列表: [1, 2, 3, 4]\n"
     ]
    }
   ],
   "source": [
    "original_list = [1, 2, 3, 2, 4, 3]\n",
    "processed_list = []\n",
    "for element in original_list:\n",
    "    if element not in processed_list:\n",
    "        processed_list.append(element)\n",
    "        \n",
    "print(f\"原始列表: {original_list}\")\n",
    "print(f\"去重后列表: {processed_list}\")"
   ]
  },
  {
   "cell_type": "code",
   "execution_count": 17,
   "id": "abc7675c-f925-46d8-b0b1-867f2a0c85d1",
   "metadata": {},
   "outputs": [
    {
     "name": "stdout",
     "output_type": "stream",
     "text": [
      "键列表: ['a', 'b', 'c']\n",
      "值列表: [1, 2, 3]\n",
      "合并字典: {'a': 1, 'b': 2, 'c': 3}\n"
     ]
    }
   ],
   "source": [
    "keys = [\"a\", \"b\", \"c\"]\n",
    "values = [1, 2, 3]\n",
    "combined_dict = {k: v for k, v in zip(keys, values)}\n",
    "\n",
    "print(f\"键列表: {keys}\")\n",
    "print(f\"值列表: {values}\")\n",
    "print(f\"合并字典: {combined_dict}\")"
   ]
  },
  {
   "cell_type": "code",
   "execution_count": 19,
   "id": "389e93c3-f714-42bc-8cc6-c02b91eb6361",
   "metadata": {},
   "outputs": [
    {
     "name": "stdout",
     "output_type": "stream",
     "text": [
      "学生信息:\n",
      "姓名: Alice\n",
      "年龄: 20\n",
      "成绩: 85\n"
     ]
    }
   ],
   "source": [
    "student_info = (\"Alice\", 20, 85)\n",
    "name, age, score = student_info\n",
    "\n",
    "print(\"学生信息:\")\n",
    "print(f\"姓名: {name}\")\n",
    "print(f\"年龄: {age}\")\n",
    "print(f\"成绩: {score}\")"
   ]
  },
  {
   "cell_type": "code",
   "execution_count": null,
   "id": "916c0273-8e0c-4244-b3b2-fbd25a60d587",
   "metadata": {},
   "outputs": [],
   "source": []
  }
 ],
 "metadata": {
  "kernelspec": {
   "display_name": "Python 3 (ipykernel)",
   "language": "python",
   "name": "python3"
  },
  "language_info": {
   "codemirror_mode": {
    "name": "ipython",
    "version": 3
   },
   "file_extension": ".py",
   "mimetype": "text/x-python",
   "name": "python",
   "nbconvert_exporter": "python",
   "pygments_lexer": "ipython3",
   "version": "3.12.3"
  }
 },
 "nbformat": 4,
 "nbformat_minor": 5
}
