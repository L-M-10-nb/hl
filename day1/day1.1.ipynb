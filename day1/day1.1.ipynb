{
 "cells": [
  {
   "cell_type": "code",
   "execution_count": 7,
   "id": "abfdb3c4-a279-4a96-8b2b-6a5c2f918bf4",
   "metadata": {},
   "outputs": [
    {
     "name": "stdout",
     "output_type": "stream",
     "text": [
      "1到100之间的素数有:\n",
      "2 3 5 7 11 13 17 19 23 29 31 37 41 43 47 53 59 61 67 71 73 79 83 89 97 \n"
     ]
    }
   ],
   "source": [
    "print(\"1到100之间的素数有:\")\n",
    "for num in range(2, 101):\n",
    "    is_prime = True\n",
    "    for i in range(2, int(num**0.5) + 1):\n",
    "        if num % i == 0:\n",
    "            is_prime = False\n",
    "            break\n",
    "    if is_prime:\n",
    "        print(num, end=' ')\n",
    "print()"
   ]
  },
  {
   "cell_type": "code",
   "execution_count": 9,
   "id": "fe820966-ab14-4b58-a76d-1e7968de05bf",
   "metadata": {},
   "outputs": [
    {
     "name": "stdout",
     "output_type": "stream",
     "text": [
      "斐波那契数列前20项:\n",
      "0 1 1 2 3 5 8 13 21 34 55 89 144 233 377 610 987 1597 2584 4181 \n"
     ]
    }
   ],
   "source": [
    "print(\"斐波那契数列前20项:\")\n",
    "a, b = 0, 1\n",
    "for i in range(20):\n",
    "    print(a, end=' ')\n",
    "    a, b = b, a + b\n",
    "print()"
   ]
  },
  {
   "cell_type": "code",
   "execution_count": 11,
   "id": "f0bca575-cbbd-4199-a84f-360688655008",
   "metadata": {},
   "outputs": [
    {
     "name": "stdout",
     "output_type": "stream",
     "text": [
      "满足条件的数的和为: 20010003\n"
     ]
    }
   ],
   "source": [
    "total = 0\n",
    "num = 1\n",
    "while num <= 10000:\n",
    "    if (num % 3 == 0 or num % 5 == 0) and num % 15 != 0:\n",
    "        total += num\n",
    "    num += 1\n",
    "print(\"满足条件的数的和为:\", total)"
   ]
  },
  {
   "cell_type": "code",
   "execution_count": null,
   "id": "42ecb444-fa2e-45c3-ac44-67c5de43a807",
   "metadata": {},
   "outputs": [],
   "source": []
  }
 ],
 "metadata": {
  "kernelspec": {
   "display_name": "Python 3 (ipykernel)",
   "language": "python",
   "name": "python3"
  },
  "language_info": {
   "codemirror_mode": {
    "name": "ipython",
    "version": 3
   },
   "file_extension": ".py",
   "mimetype": "text/x-python",
   "name": "python",
   "nbconvert_exporter": "python",
   "pygments_lexer": "ipython3",
   "version": "3.12.3"
  }
 },
 "nbformat": 4,
 "nbformat_minor": 5
}
